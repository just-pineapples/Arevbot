{
 "cells": [
  {
   "cell_type": "code",
   "execution_count": 41,
   "metadata": {},
   "outputs": [
    {
     "ename": "NameError",
     "evalue": "name '__file__' is not defined",
     "output_type": "error",
     "traceback": [
      "\u001b[1;31m---------------------------------------------------------------------------\u001b[0m",
      "\u001b[1;31mNameError\u001b[0m                                 Traceback (most recent call last)",
      "\u001b[1;32mc:\\Users\\dpinales\\Desktop\\Arevbot\\Dataframe_mangement\\DC_outage_model.ipynb Cell 1\u001b[0m in \u001b[0;36m<cell line: 6>\u001b[1;34m()\u001b[0m\n\u001b[0;32m      <a href='vscode-notebook-cell:/c%3A/Users/dpinales/Desktop/Arevbot/Dataframe_mangement/DC_outage_model.ipynb#W0sZmlsZQ%3D%3D?line=2'>3</a>\u001b[0m \u001b[39mimport\u001b[39;00m \u001b[39mpytz\u001b[39;00m\u001b[39m,\u001b[39m \u001b[39msys\u001b[39;00m\u001b[39m,\u001b[39m\u001b[39mos\u001b[39;00m\n\u001b[0;32m      <a href='vscode-notebook-cell:/c%3A/Users/dpinales/Desktop/Arevbot/Dataframe_mangement/DC_outage_model.ipynb#W0sZmlsZQ%3D%3D?line=3'>4</a>\u001b[0m \u001b[39mimport\u001b[39;00m \u001b[39mplotly\u001b[39;00m\u001b[39m.\u001b[39;00m\u001b[39mexpress\u001b[39;00m \u001b[39mas\u001b[39;00m \u001b[39mpx\u001b[39;00m\n\u001b[1;32m----> <a href='vscode-notebook-cell:/c%3A/Users/dpinales/Desktop/Arevbot/Dataframe_mangement/DC_outage_model.ipynb#W0sZmlsZQ%3D%3D?line=5'>6</a>\u001b[0m THIS_DIR \u001b[39m=\u001b[39m os\u001b[39m.\u001b[39mpath\u001b[39m.\u001b[39mdirname(\u001b[39m__file__\u001b[39;49m)\n\u001b[0;32m      <a href='vscode-notebook-cell:/c%3A/Users/dpinales/Desktop/Arevbot/Dataframe_mangement/DC_outage_model.ipynb#W0sZmlsZQ%3D%3D?line=6'>7</a>\u001b[0m CODE_DIR \u001b[39m=\u001b[39m os\u001b[39m.\u001b[39mabspath(os\u001b[39m.\u001b[39mjoin(THIS_DIR, \u001b[39m'\u001b[39m\u001b[39m..\u001b[39m\u001b[39m'\u001b[39m, \u001b[39m'\u001b[39m\u001b[39mcode\u001b[39m\u001b[39m'\u001b[39m))\n\u001b[0;32m      <a href='vscode-notebook-cell:/c%3A/Users/dpinales/Desktop/Arevbot/Dataframe_mangement/DC_outage_model.ipynb#W0sZmlsZQ%3D%3D?line=7'>8</a>\u001b[0m sys\u001b[39m.\u001b[39mpath\u001b[39m.\u001b[39mappend(CODE_DIR)\n",
      "\u001b[1;31mNameError\u001b[0m: name '__file__' is not defined"
     ]
    }
   ],
   "source": [
    "import pandas as pd\n",
    "import numpy as np\n",
    "import pytz, sys,os\n",
    "import plotly.express as px\n",
    "\n",
    "THIS_DIR = os.path.dirname(__file__)\n",
    "CODE_DIR = os.abspath(os.join(THIS_DIR, '..', 'code'))\n",
    "sys.path.append(CODE_DIR)\n",
    "\n",
    "from datetime import datetime as dt\n",
    "from datetime import timezone\n",
    "from dateutil import tz\n",
    "from src.config import SUBSCRIPTION_KEY, CUSTOMER_ID, get_project_root\n",
    "\n",
    "\n",
    "root = get_project_root()\n",
    "os.chdir(root)\n",
    "\n"
   ]
  },
  {
   "cell_type": "code",
   "execution_count": 15,
   "metadata": {},
   "outputs": [
    {
     "ename": "ModuleNotFoundError",
     "evalue": "No module named 'src'",
     "output_type": "error",
     "traceback": [
      "\u001b[1;31m---------------------------------------------------------------------------\u001b[0m",
      "\u001b[1;31mModuleNotFoundError\u001b[0m                       Traceback (most recent call last)",
      "\u001b[1;32mc:\\Users\\dpinales\\Desktop\\Arevbot\\Dataframe_mangement\\DC_outage_model.ipynb Cell 2\u001b[0m in \u001b[0;36m<cell line: 1>\u001b[1;34m()\u001b[0m\n\u001b[1;32m----> <a href='vscode-notebook-cell:/c%3A/Users/dpinales/Desktop/Arevbot/Dataframe_mangement/DC_outage_model.ipynb#W1sZmlsZQ%3D%3D?line=0'>1</a>\u001b[0m \u001b[39mfrom\u001b[39;00m \u001b[39msrc\u001b[39;00m\u001b[39m.\u001b[39;00m\u001b[39mconfig\u001b[39;00m \u001b[39mimport\u001b[39;00m SUBSCRIPTION_KEY, CUSTOMER_ID, get_project_root\n\u001b[0;32m      <a href='vscode-notebook-cell:/c%3A/Users/dpinales/Desktop/Arevbot/Dataframe_mangement/DC_outage_model.ipynb#W1sZmlsZQ%3D%3D?line=2'>3</a>\u001b[0m root \u001b[39m=\u001b[39m get_project_root()\n\u001b[0;32m      <a href='vscode-notebook-cell:/c%3A/Users/dpinales/Desktop/Arevbot/Dataframe_mangement/DC_outage_model.ipynb#W1sZmlsZQ%3D%3D?line=5'>6</a>\u001b[0m \u001b[39mfrom\u001b[39;00m \u001b[39mPF_API_Shared\u001b[39;00m \u001b[39mimport\u001b[39;00m get_all_plants, get_plant_devices, Dispatch,TimeInterval, get_plants_metadata\n",
      "\u001b[1;31mModuleNotFoundError\u001b[0m: No module named 'src'"
     ]
    }
   ],
   "source": [
    "\n",
    "\n",
    "\n",
    "root = get_project_root()\n",
    "\n",
    "\n",
    "from PF_API_Shared import get_all_plants, get_plant_devices, Dispatch,TimeInterval, get_plants_metadata\n"
   ]
  },
  {
   "cell_type": "code",
   "execution_count": null,
   "metadata": {},
   "outputs": [],
   "source": [
    "\n",
    "plant = 'Latitude'\n",
    "start = dt(2022,8,1)\n",
    "end = dt(2022,9,1)\n"
   ]
  },
  {
   "cell_type": "code",
   "execution_count": null,
   "metadata": {},
   "outputs": [],
   "source": [
    "dev_tags = [(\"Combiner\", [\"DC_CURRENT\"]),\n",
    "            (\"Inverter\", [\"DC_CURRENT\"]),\n",
    "            (\"Sensor Pyranometer POA\", [\"IRRADIANCE_POA\"]),\n",
    "                (\"Meter\",[\"AC_POWER\"])]\n",
    "  \n",
    "rq_tags = []\n",
    "\n",
    "plants = get_all_plants(SUBSCRIPTION_KEY, CUSTOMER_ID)  \n",
    "plant_id = plants[\"id\"][plants[\"name\"] == plant].values[0]\n",
    "dispatch = Dispatch(SUBSCRIPTION_KEY, '2096')\n",
    "devices = get_plant_devices(SUBSCRIPTION_KEY,CUSTOMER_ID,plant_id)\n"
   ]
  },
  {
   "cell_type": "code",
   "execution_count": null,
   "metadata": {},
   "outputs": [],
   "source": [
    "for dtype, tags in dev_tags:\n",
    "    dtype_devices = devices[devices['type']==dtype]\n",
    "    \n",
    "    df = dispatch.fetch_data(dtype_devices['id'], \n",
    "                                tags, \n",
    "                                query_range=TimeInterval(starttime=start,endtime=end))\n",
    "    rq_tags.append(df)\n",
    "inv_data = pd.concat(rq_tags, axis=1)\n",
    "data = inv_data.copy(deep=True)"
   ]
  },
  {
   "cell_type": "code",
   "execution_count": null,
   "metadata": {},
   "outputs": [],
   "source": [
    "ident = [id for site, type, id, name in data.columns]\n",
    "data.columns = ident\n",
    "data.tz_convert()"
   ]
  },
  {
   "cell_type": "code",
   "execution_count": null,
   "metadata": {},
   "outputs": [],
   "source": [
    "data = data.set_index([data.index])\n",
    "data.index = pd.to_datetime(data.index)\n",
    "data = data[~data.index.duplicated(keep='first')]\n",
    "data.index = data.index.tz_convert(\"US/Central\")"
   ]
  },
  {
   "cell_type": "code",
   "execution_count": null,
   "metadata": {},
   "outputs": [],
   "source": [
    "\"\"\"For Filtered data, the data is filtered by the following parameters\n",
    "        a. POA > 100\n",
    "        b. (Meter Power > 1.5 MW) & (Meter Power < 25 MW)\n",
    "        c. Hour > 12 (For shading purposes)\n",
    "        d. All CBX's < 0 = 0\n",
    "\"\"\"\n",
    "\n",
    "data.loc[:, \"Meter_Power\"] = data.filter(regex=\"MTR\").median(axis=1)\n",
    "data.loc[:, \"POA\"] = data.filter(regex=\"MET\").median(axis=1)\n",
    "\n",
    "curtailment_limit = 499999\n",
    "\n",
    "new_df = data.between_time(\"7:00\", \"17:00\")\n",
    "new_df = data[(data.loc[:,\"POA\"] > 100)&(data.loc[:,\"Meter_Power\"]<curtailment_limit*0.99)]\n",
    "new_df[new_df<=0.00] = 0\n",
    "day_df = new_df.resample(\"1D\").sum()\n",
    "\n",
    "day_df\n"
   ]
  },
  {
   "cell_type": "code",
   "execution_count": 11,
   "metadata": {},
   "outputs": [
    {
     "name": "stdout",
     "output_type": "stream",
     "text": [
      "c:\\Users\\dpinales\\Desktop\\Arevbot\\Dataframe_mangement\\data\\Project_Metadata_tables.xlsx\n"
     ]
    },
    {
     "ename": "FileNotFoundError",
     "evalue": "[Errno 2] No such file or directory: 'data\\\\Project_Metadata_tables.xlsx'",
     "output_type": "error",
     "traceback": [
      "\u001b[1;31m---------------------------------------------------------------------------\u001b[0m",
      "\u001b[1;31mFileNotFoundError\u001b[0m                         Traceback (most recent call last)",
      "\u001b[1;32mc:\\Users\\dpinales\\Desktop\\Arevbot\\Dataframe_mangement\\DC_outage_model.ipynb Cell 9\u001b[0m in \u001b[0;36m<cell line: 4>\u001b[1;34m()\u001b[0m\n\u001b[0;32m      <a href='vscode-notebook-cell:/c%3A/Users/dpinales/Desktop/Arevbot/Dataframe_mangement/DC_outage_model.ipynb#X11sZmlsZQ%3D%3D?line=0'>1</a>\u001b[0m path \u001b[39m=\u001b[39m \u001b[39m\"\u001b[39m\u001b[39mdata\u001b[39m\u001b[39m\\\\\u001b[39;00m\u001b[39mProject_Metadata_tables.xlsx\u001b[39m\u001b[39m\"\u001b[39m\n\u001b[0;32m      <a href='vscode-notebook-cell:/c%3A/Users/dpinales/Desktop/Arevbot/Dataframe_mangement/DC_outage_model.ipynb#X11sZmlsZQ%3D%3D?line=1'>2</a>\u001b[0m \u001b[39mprint\u001b[39m(os\u001b[39m.\u001b[39mpath\u001b[39m.\u001b[39mabspath(path))\n\u001b[1;32m----> <a href='vscode-notebook-cell:/c%3A/Users/dpinales/Desktop/Arevbot/Dataframe_mangement/DC_outage_model.ipynb#X11sZmlsZQ%3D%3D?line=3'>4</a>\u001b[0m dc_meta \u001b[39m=\u001b[39m pd\u001b[39m.\u001b[39;49mread_excel(path, sheet_name\u001b[39m=\u001b[39;49m\u001b[39m\"\u001b[39;49m\u001b[39mCombiner_table\u001b[39;49m\u001b[39m\"\u001b[39;49m)\u001b[39m.\u001b[39mfilter(items\u001b[39m=\u001b[39m [\u001b[39m'\u001b[39m\u001b[39mplant_name\u001b[39m\u001b[39m'\u001b[39m, \u001b[39m'\u001b[39m\u001b[39mstring_count\u001b[39m\u001b[39m'\u001b[39m,\u001b[39m'\u001b[39m\u001b[39mDC Rating Power kW\u001b[39m\u001b[39m'\u001b[39m, \u001b[39m'\u001b[39m\u001b[39mModule IMP\u001b[39m\u001b[39m'\u001b[39m], axis\u001b[39m=\u001b[39m\u001b[39m1\u001b[39m)\n",
      "File \u001b[1;32mc:\\Users\\dpinales\\Anaconda3\\envs\\energyopt\\lib\\site-packages\\pandas\\util\\_decorators.py:311\u001b[0m, in \u001b[0;36mdeprecate_nonkeyword_arguments.<locals>.decorate.<locals>.wrapper\u001b[1;34m(*args, **kwargs)\u001b[0m\n\u001b[0;32m    305\u001b[0m \u001b[39mif\u001b[39;00m \u001b[39mlen\u001b[39m(args) \u001b[39m>\u001b[39m num_allow_args:\n\u001b[0;32m    306\u001b[0m     warnings\u001b[39m.\u001b[39mwarn(\n\u001b[0;32m    307\u001b[0m         msg\u001b[39m.\u001b[39mformat(arguments\u001b[39m=\u001b[39marguments),\n\u001b[0;32m    308\u001b[0m         \u001b[39mFutureWarning\u001b[39;00m,\n\u001b[0;32m    309\u001b[0m         stacklevel\u001b[39m=\u001b[39mstacklevel,\n\u001b[0;32m    310\u001b[0m     )\n\u001b[1;32m--> 311\u001b[0m \u001b[39mreturn\u001b[39;00m func(\u001b[39m*\u001b[39margs, \u001b[39m*\u001b[39m\u001b[39m*\u001b[39mkwargs)\n",
      "File \u001b[1;32mc:\\Users\\dpinales\\Anaconda3\\envs\\energyopt\\lib\\site-packages\\pandas\\io\\excel\\_base.py:457\u001b[0m, in \u001b[0;36mread_excel\u001b[1;34m(io, sheet_name, header, names, index_col, usecols, squeeze, dtype, engine, converters, true_values, false_values, skiprows, nrows, na_values, keep_default_na, na_filter, verbose, parse_dates, date_parser, thousands, decimal, comment, skipfooter, convert_float, mangle_dupe_cols, storage_options)\u001b[0m\n\u001b[0;32m    455\u001b[0m \u001b[39mif\u001b[39;00m \u001b[39mnot\u001b[39;00m \u001b[39misinstance\u001b[39m(io, ExcelFile):\n\u001b[0;32m    456\u001b[0m     should_close \u001b[39m=\u001b[39m \u001b[39mTrue\u001b[39;00m\n\u001b[1;32m--> 457\u001b[0m     io \u001b[39m=\u001b[39m ExcelFile(io, storage_options\u001b[39m=\u001b[39;49mstorage_options, engine\u001b[39m=\u001b[39;49mengine)\n\u001b[0;32m    458\u001b[0m \u001b[39melif\u001b[39;00m engine \u001b[39mand\u001b[39;00m engine \u001b[39m!=\u001b[39m io\u001b[39m.\u001b[39mengine:\n\u001b[0;32m    459\u001b[0m     \u001b[39mraise\u001b[39;00m \u001b[39mValueError\u001b[39;00m(\n\u001b[0;32m    460\u001b[0m         \u001b[39m\"\u001b[39m\u001b[39mEngine should not be specified when passing \u001b[39m\u001b[39m\"\u001b[39m\n\u001b[0;32m    461\u001b[0m         \u001b[39m\"\u001b[39m\u001b[39man ExcelFile - ExcelFile already has the engine set\u001b[39m\u001b[39m\"\u001b[39m\n\u001b[0;32m    462\u001b[0m     )\n",
      "File \u001b[1;32mc:\\Users\\dpinales\\Anaconda3\\envs\\energyopt\\lib\\site-packages\\pandas\\io\\excel\\_base.py:1376\u001b[0m, in \u001b[0;36mExcelFile.__init__\u001b[1;34m(self, path_or_buffer, engine, storage_options)\u001b[0m\n\u001b[0;32m   1374\u001b[0m     ext \u001b[39m=\u001b[39m \u001b[39m\"\u001b[39m\u001b[39mxls\u001b[39m\u001b[39m\"\u001b[39m\n\u001b[0;32m   1375\u001b[0m \u001b[39melse\u001b[39;00m:\n\u001b[1;32m-> 1376\u001b[0m     ext \u001b[39m=\u001b[39m inspect_excel_format(\n\u001b[0;32m   1377\u001b[0m         content_or_path\u001b[39m=\u001b[39;49mpath_or_buffer, storage_options\u001b[39m=\u001b[39;49mstorage_options\n\u001b[0;32m   1378\u001b[0m     )\n\u001b[0;32m   1379\u001b[0m     \u001b[39mif\u001b[39;00m ext \u001b[39mis\u001b[39;00m \u001b[39mNone\u001b[39;00m:\n\u001b[0;32m   1380\u001b[0m         \u001b[39mraise\u001b[39;00m \u001b[39mValueError\u001b[39;00m(\n\u001b[0;32m   1381\u001b[0m             \u001b[39m\"\u001b[39m\u001b[39mExcel file format cannot be determined, you must specify \u001b[39m\u001b[39m\"\u001b[39m\n\u001b[0;32m   1382\u001b[0m             \u001b[39m\"\u001b[39m\u001b[39man engine manually.\u001b[39m\u001b[39m\"\u001b[39m\n\u001b[0;32m   1383\u001b[0m         )\n",
      "File \u001b[1;32mc:\\Users\\dpinales\\Anaconda3\\envs\\energyopt\\lib\\site-packages\\pandas\\io\\excel\\_base.py:1250\u001b[0m, in \u001b[0;36minspect_excel_format\u001b[1;34m(content_or_path, storage_options)\u001b[0m\n\u001b[0;32m   1247\u001b[0m \u001b[39mif\u001b[39;00m \u001b[39misinstance\u001b[39m(content_or_path, \u001b[39mbytes\u001b[39m):\n\u001b[0;32m   1248\u001b[0m     content_or_path \u001b[39m=\u001b[39m BytesIO(content_or_path)\n\u001b[1;32m-> 1250\u001b[0m \u001b[39mwith\u001b[39;00m get_handle(\n\u001b[0;32m   1251\u001b[0m     content_or_path, \u001b[39m\"\u001b[39;49m\u001b[39mrb\u001b[39;49m\u001b[39m\"\u001b[39;49m, storage_options\u001b[39m=\u001b[39;49mstorage_options, is_text\u001b[39m=\u001b[39;49m\u001b[39mFalse\u001b[39;49;00m\n\u001b[0;32m   1252\u001b[0m ) \u001b[39mas\u001b[39;00m handle:\n\u001b[0;32m   1253\u001b[0m     stream \u001b[39m=\u001b[39m handle\u001b[39m.\u001b[39mhandle\n\u001b[0;32m   1254\u001b[0m     stream\u001b[39m.\u001b[39mseek(\u001b[39m0\u001b[39m)\n",
      "File \u001b[1;32mc:\\Users\\dpinales\\Anaconda3\\envs\\energyopt\\lib\\site-packages\\pandas\\io\\common.py:795\u001b[0m, in \u001b[0;36mget_handle\u001b[1;34m(path_or_buf, mode, encoding, compression, memory_map, is_text, errors, storage_options)\u001b[0m\n\u001b[0;32m    786\u001b[0m         handle \u001b[39m=\u001b[39m \u001b[39mopen\u001b[39m(\n\u001b[0;32m    787\u001b[0m             handle,\n\u001b[0;32m    788\u001b[0m             ioargs\u001b[39m.\u001b[39mmode,\n\u001b[1;32m   (...)\u001b[0m\n\u001b[0;32m    791\u001b[0m             newline\u001b[39m=\u001b[39m\u001b[39m\"\u001b[39m\u001b[39m\"\u001b[39m,\n\u001b[0;32m    792\u001b[0m         )\n\u001b[0;32m    793\u001b[0m     \u001b[39melse\u001b[39;00m:\n\u001b[0;32m    794\u001b[0m         \u001b[39m# Binary mode\u001b[39;00m\n\u001b[1;32m--> 795\u001b[0m         handle \u001b[39m=\u001b[39m \u001b[39mopen\u001b[39;49m(handle, ioargs\u001b[39m.\u001b[39;49mmode)\n\u001b[0;32m    796\u001b[0m     handles\u001b[39m.\u001b[39mappend(handle)\n\u001b[0;32m    798\u001b[0m \u001b[39m# Convert BytesIO or file objects passed with an encoding\u001b[39;00m\n",
      "\u001b[1;31mFileNotFoundError\u001b[0m: [Errno 2] No such file or directory: 'data\\\\Project_Metadata_tables.xlsx'"
     ]
    }
   ],
   "source": [
    "path = \"data\\\\Project_Metadata_tables.xlsx\"\n",
    "print(os.path.abspath(path))\n",
    "\n",
    "dc_meta = pd.read_excel(path, sheet_name=\"Combiner_table\").filter(items= ['plant_name', 'string_count','DC Rating Power kW', 'Module IMP'], axis=1)\n"
   ]
  },
  {
   "cell_type": "code",
   "execution_count": null,
   "metadata": {},
   "outputs": [],
   "source": [
    "day_df = day_df.filter(regex=\"CMB\")\n",
    "\n",
    "dc_issues = dc_meta[dc_meta[\"plant_name\"]==plant]  \n",
    "dc_rating = [i for i in dc_issues['DC Rating Power kW'].values]\n",
    "\n",
    "relative_dc = []\n",
    "\n",
    "max_dc = max(dc_rating)\n",
    "\n",
    "for i in dc_rating:\n",
    "    dc = (i/max_dc)\n",
    "    relative_dc.append(dc)\n",
    "\n",
    "string_count = [s for s in dc_issues['string_count']]\n",
    "\n",
    "cmb_relative = day_df.div(relative_dc)\n",
    "\n",
    "cmb_relative.loc[:,'norm'] = cmb_relative.apply(pd.Series.nlargest, axis = 1, n = 5).median(axis = 1)\n",
    "t = cmb_relative.div(cmb_relative['norm'], axis = 0).clip(lower = 0, upper = 1)\n",
    "t = t.iloc[:,:-1]\n",
    "\n",
    "down_strings = (string_count*(1-t)).round()\n",
    "\n",
    "down_strings.to_csv('latitude_DC.csv')\n"
   ]
  },
  {
   "cell_type": "code",
   "execution_count": null,
   "metadata": {},
   "outputs": [],
   "source": [
    "e_downstrings = sum(int(down_strings[:]))\n",
    "total_string = sum(int(string_count))\n",
    "ratio_strings = e_downstrings/total_string\n",
    "\n",
    "print(f\"The estimated plants DC outage: {ratio_strings}\")"
   ]
  },
  {
   "cell_type": "code",
   "execution_count": null,
   "metadata": {},
   "outputs": [],
   "source": [
    "sum_of_cbx = cbx_data[\"Sum_of_CBX\"]\n",
    "sum_of_inv = inv_df[\"Sum_of_inv\"]\n",
    "\n",
    "def cmb_summation(a,b):\n",
    "    total = (a/b)\n",
    "    return total\n"
   ]
  },
  {
   "cell_type": "code",
   "execution_count": null,
   "metadata": {},
   "outputs": [],
   "source": [
    "# cbx_data.to_csv(f\"{plant} - August_Daily_Derates.csv\")\n",
    "cbx_data.to_csv(f\"{plant} - API Data.csv\")"
   ]
  }
 ],
 "metadata": {
  "kernelspec": {
   "display_name": "Python 3.9.12 ('energyopt')",
   "language": "python",
   "name": "python3"
  },
  "language_info": {
   "codemirror_mode": {
    "name": "ipython",
    "version": 3
   },
   "file_extension": ".py",
   "mimetype": "text/x-python",
   "name": "python",
   "nbconvert_exporter": "python",
   "pygments_lexer": "ipython3",
   "version": "3.9.12"
  },
  "orig_nbformat": 4,
  "vscode": {
   "interpreter": {
    "hash": "1ee7ccf5c2b422db1bca515afce38c3760a7c212612fed475a8b1d4a95c1ac50"
   }
  }
 },
 "nbformat": 4,
 "nbformat_minor": 2
}
