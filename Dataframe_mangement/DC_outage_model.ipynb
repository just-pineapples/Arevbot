{
 "cells": [
  {
   "cell_type": "code",
   "execution_count": null,
   "metadata": {},
   "outputs": [],
   "source": [
    "import pandas as pd\n",
    "import numpy as np\n",
    "import pytz, sys,os\n",
    "import plotly.express as px\n",
    "\n",
    "from datetime import datetime as dt\n",
    "from datetime import timezone\n",
    "from dateutil import tz\n",
    "\n",
    "sys.path.append(os.getcwd())\n"
   ]
  },
  {
   "cell_type": "code",
   "execution_count": null,
   "metadata": {},
   "outputs": [],
   "source": [
    "\n",
    "from PF_API_Shared import get_all_plants, get_plant_devices, Dispatch,TimeInterval, get_plants_metadata\n",
    "from config import SUBSCRIPTION_KEY, CUSTOMER_ID\n"
   ]
  },
  {
   "cell_type": "code",
   "execution_count": null,
   "metadata": {},
   "outputs": [],
   "source": [
    "\n",
    "plant = 'Latitude'\n",
    "start = dt(2022,8,1)\n",
    "end = dt(2022,9,1)\n"
   ]
  },
  {
   "cell_type": "code",
   "execution_count": null,
   "metadata": {},
   "outputs": [],
   "source": [
    "dev_tags = [(\"Combiner\", [\"DC_CURRENT\"]),\n",
    "            (\"Inverter\", [\"DC_CURRENT\"]),\n",
    "            (\"Sensor Pyranometer POA\", [\"IRRADIANCE_POA\"]),\n",
    "                (\"Meter\",[\"AC_POWER\"])]\n",
    "  \n",
    "rq_tags = []\n",
    "\n",
    "plants = get_all_plants(SUBSCRIPTION_KEY, CUSTOMER_ID)  \n",
    "plant_id = plants[\"id\"][plants[\"name\"] == plant].values[0]\n",
    "dispatch = Dispatch(SUBSCRIPTION_KEY, '2096')\n",
    "devices = get_plant_devices(SUBSCRIPTION_KEY,CUSTOMER_ID,plant_id)\n"
   ]
  },
  {
   "cell_type": "code",
   "execution_count": null,
   "metadata": {},
   "outputs": [],
   "source": [
    "for dtype, tags in dev_tags:\n",
    "    dtype_devices = devices[devices['type']==dtype]\n",
    "    \n",
    "    df = dispatch.fetch_data(dtype_devices['id'], \n",
    "                                tags, \n",
    "                                query_range=TimeInterval(starttime=start,endtime=end))\n",
    "    rq_tags.append(df)\n",
    "inv_data = pd.concat(rq_tags, axis=1)\n",
    "data = inv_data.copy(deep=True)"
   ]
  },
  {
   "cell_type": "code",
   "execution_count": null,
   "metadata": {},
   "outputs": [],
   "source": [
    "ident = [id for site, type, id, name in data.columns]\n",
    "data.columns = ident\n",
    "data.tz_convert()"
   ]
  },
  {
   "cell_type": "code",
   "execution_count": null,
   "metadata": {},
   "outputs": [],
   "source": [
    "data = data.set_index([data.index])\n",
    "data.index = pd.to_datetime(data.index)\n",
    "data = data[~data.index.duplicated(keep='first')]\n",
    "data.index = data.index.tz_convert(\"US/Central\")"
   ]
  },
  {
   "cell_type": "code",
   "execution_count": null,
   "metadata": {},
   "outputs": [],
   "source": [
    "\"\"\"For Filtered data, the data is filtered by the following parameters\n",
    "        a. POA > 100\n",
    "        b. (Meter Power > 1.5 MW) & (Meter Power < 25 MW)\n",
    "        c. Hour > 12 (For shading purposes)\n",
    "        d. All CBX's < 0 = 0\n",
    "\"\"\"\n",
    "\n",
    "data.loc[:, \"Meter_Power\"] = data.filter(regex=\"MTR\").median(axis=1)\n",
    "data.loc[:, \"POA\"] = data.filter(regex=\"MET\").median(axis=1)\n",
    "\n",
    "curtailment_limit = 499999\n",
    "\n",
    "new_df = data.between_time(\"7:00\", \"17:00\")\n",
    "new_df = data[(data.loc[:,\"POA\"] > 100)&(data.loc[:,\"Meter_Power\"]<curtailment_limit*0.99)]\n",
    "new_df[new_df<=0.00] = 0\n",
    "day_df = new_df.resample(\"1D\").sum()\n",
    "\n",
    "day_df\n"
   ]
  },
  {
   "cell_type": "code",
   "execution_count": null,
   "metadata": {},
   "outputs": [],
   "source": [
    "# dc_issues = pd.read_excel(\"C:\\\\Users\\\\dpinales\\\\Desktop\\\\Energy_Opt\\\\data\\\\Gulf DC Issues.xlsx\")\n",
    "dc_meta = pd.read_excel(\"C:\\\\Users\\\\dpinales\\\\Desktop\\\\Energy_Opt\\\\data\\\\Project_Metadata_tables.xlsx\", sheet_name=\"Combiner_table\").filter(items= ['plant_name', 'string_count','DC Rating Power kW', 'Module IMP'], axis=1)\n"
   ]
  },
  {
   "cell_type": "code",
   "execution_count": null,
   "metadata": {},
   "outputs": [],
   "source": [
    "day_df = day_df.filter(regex=\"CMB\")\n",
    "\n",
    "dc_issues = dc_meta[dc_meta[\"plant_name\"]==plant]  \n",
    "dc_rating = [i for i in dc_issues['DC Rating Power kW'].values]\n",
    "\n",
    "relative_dc = []\n",
    "\n",
    "max_dc = max(dc_rating)\n",
    "\n",
    "for i in dc_rating:\n",
    "    dc = (i/max_dc)\n",
    "    relative_dc.append(dc)\n",
    "\n",
    "string_count = [s for s in dc_issues['string_count']]\n",
    "\n",
    "cmb_relative = day_df.div(relative_dc)\n",
    "\n",
    "cmb_relative.loc[:,'norm'] = cmb_relative.apply(pd.Series.nlargest, axis = 1, n = 5).median(axis = 1)\n",
    "t = cmb_relative.div(cmb_relative['norm'], axis = 0).clip(lower = 0, upper = 1)\n",
    "t = t.iloc[:,:-1]\n",
    "\n",
    "down_strings = (string_count*(1-t)).round()\n",
    "\n",
    "down_strings.to_csv('latitude_DC.csv')\n"
   ]
  },
  {
   "cell_type": "code",
   "execution_count": null,
   "metadata": {},
   "outputs": [],
   "source": [
    "e_downstrings = sum(int(down_strings[:]))\n",
    "total_string = sum(int(string_count))\n",
    "ratio_strings = e_downstrings/total_string\n",
    "\n",
    "print(f\"The estimated plants DC outage: {ratio_strings}\")"
   ]
  },
  {
   "cell_type": "code",
   "execution_count": null,
   "metadata": {},
   "outputs": [],
   "source": [
    "sum_of_cbx = cbx_data[\"Sum_of_CBX\"]\n",
    "sum_of_inv = inv_df[\"Sum_of_inv\"]\n",
    "\n",
    "def cmb_summation(a,b):\n",
    "    total = (a/b)\n",
    "    return total\n"
   ]
  },
  {
   "cell_type": "code",
   "execution_count": null,
   "metadata": {},
   "outputs": [],
   "source": [
    "# cbx_data.to_csv(f\"{plant} - August_Daily_Derates.csv\")\n",
    "cbx_data.to_csv(f\"{plant} - API Data.csv\")"
   ]
  }
 ],
 "metadata": {
  "kernelspec": {
   "display_name": "Python 3.9.12 ('energyopt')",
   "language": "python",
   "name": "python3"
  },
  "language_info": {
   "codemirror_mode": {
    "name": "ipython",
    "version": 3
   },
   "file_extension": ".py",
   "mimetype": "text/x-python",
   "name": "python",
   "nbconvert_exporter": "python",
   "pygments_lexer": "ipython3",
   "version": "3.9.12"
  },
  "orig_nbformat": 4,
  "vscode": {
   "interpreter": {
    "hash": "1ee7ccf5c2b422db1bca515afce38c3760a7c212612fed475a8b1d4a95c1ac50"
   }
  }
 },
 "nbformat": 4,
 "nbformat_minor": 2
}
