{
 "cells": [
  {
   "cell_type": "code",
   "execution_count": null,
   "metadata": {},
   "outputs": [],
   "source": [
    "import os\n",
    "import pandas as pd\n",
    "import time\n",
    "import re\n",
    "import itertools\n",
    "import plotly\n",
    "\n",
    "from datetime import datetime as dt\n",
    "from API_Intergration import expected_modeling_tags\n",
    "\n",
    "plotly.io.renderers.default = 'browser'\n",
    "\n",
    "pd.options.plotting.backend = 'plotly'\n",
    "\n",
    "\n",
    "''' Enter the path of your file '''\n",
    "coeffs = pd.read_excel(\"C:\\\\Users\\\\dpinales\\\\Desktop\\\\Energy_Opt\\\\data\\\\Co-Effs\\\\Coronal Co-eff.xlsx\")"
   ]
  },
  {
   "cell_type": "code",
   "execution_count": null,
   "metadata": {},
   "outputs": [],
   "source": [
    "plant = 'Latitude'\n",
    "start = dt(2022,8,1)\n",
    "end = dt(2022,9,1)"
   ]
  },
  {
   "cell_type": "code",
   "execution_count": null,
   "metadata": {},
   "outputs": [],
   "source": [
    "plant_coeffs = coeffs[coeffs[\"Plants\"] == plant]\n",
    "plant_coeffs"
   ]
  },
  {
   "cell_type": "code",
   "execution_count": null,
   "metadata": {},
   "outputs": [],
   "source": [
    "poa = plant_coeffs[\"POA\"].values\n",
    "poa2 = plant_coeffs[\"POA^2\"].values\n",
    "poa_tamb = plant_coeffs[\"POA*TAMB\"].values\n",
    "poa_ws = plant_coeffs[\"POA*WS\"].values\n",
    "derate_factor = plant_coeffs[\"Factor\"].values\n",
    "ac_loss = plant_coeffs[\"AC loss\"].values\n",
    "dc_capacity = plant_coeffs[\"DC_CAP(kW)\"].values\n",
    "clipping_setpoint = plant_coeffs[\"Clipping Set Points kW\"].values"
   ]
  },
  {
   "cell_type": "code",
   "execution_count": null,
   "metadata": {},
   "outputs": [],
   "source": [
    "df = expected_modeling_tags(plant,start,end)\n",
    "df.filter().isin()"
   ]
  },
  {
   "cell_type": "code",
   "execution_count": null,
   "metadata": {},
   "outputs": [],
   "source": [
    "df = df.set_index([df.index])\n",
    "df.index = pd.to_datetime(df.index)\n",
    "df = df[~df.index.duplicated(keep='first')]\n",
    "df = df[:-1]"
   ]
  },
  {
   "cell_type": "code",
   "execution_count": null,
   "metadata": {},
   "outputs": [],
   "source": [
    "\n",
    "poa_sensor= df.filter(regex = 'IRRADIANCE_POA')\n",
    "poa_names = list(poa_sensor)\n",
    "\n",
    "df[:,\"POA\"] = df.loc[:, poa_sensor.isin(poa_names)]"
   ]
  },
  {
   "cell_type": "code",
   "execution_count": null,
   "metadata": {},
   "outputs": [],
   "source": [
    "df.loc[:,'POA'] = df.filter(regex = 'IRRADIANCE_POA').median(axis = 1)\n",
    "df.loc[:,'WS'] = df.filter(regex = 'WIND_SPEED').median(axis = 1)\n",
    "df.loc[:,'T_AMB'] = df.filter(regex = 'T_AMB').median(axis = 1)\n",
    "df.loc[:,'Meter_Power'] = (df.filter(regex = 'AC_POWER').median(axis = 1)).clip(0)\n",
    "df"
   ]
  },
  {
   "cell_type": "code",
   "execution_count": null,
   "metadata": {},
   "outputs": [],
   "source": [
    "df.loc[:,'Expected_Power_V1'] = (derate_factor*ac_loss*df[\"POA\"]*(poa + (poa2*df['POA']) + (df['T_AMB']*poa_tamb) + (df['WS']*poa_ws))).clip(0,int(clipping_setpoint))"
   ]
  },
  {
   "cell_type": "code",
   "execution_count": null,
   "metadata": {},
   "outputs": [],
   "source": [
    "df1 = df[['Meter_Power','Expected_Power_V1']]\n",
    "fig = df1.plot.line(title = 'Actual vs Expected Power kW')\n",
    "fig.show()"
   ]
  },
  {
   "cell_type": "code",
   "execution_count": null,
   "metadata": {},
   "outputs": [],
   "source": [
    "DE = df1.resample('1D').sum()/12000\n",
    "DE.loc[:,'Loss_V1'] = DE['Expected_Power_V1'] - DE['Meter_Power']\n",
    "DE\n",
    "print(DE.Expected_Power_V1.sum())\n",
    "DE.Meter_Power.sum()"
   ]
  }
 ],
 "metadata": {
  "kernelspec": {
   "display_name": "Python 3.9.12 ('energyopt')",
   "language": "python",
   "name": "python3"
  },
  "language_info": {
   "codemirror_mode": {
    "name": "ipython",
    "version": 3
   },
   "file_extension": ".py",
   "mimetype": "text/x-python",
   "name": "python",
   "nbconvert_exporter": "python",
   "pygments_lexer": "ipython3",
   "version": "3.9.12"
  },
  "orig_nbformat": 4,
  "vscode": {
   "interpreter": {
    "hash": "1ee7ccf5c2b422db1bca515afce38c3760a7c212612fed475a8b1d4a95c1ac50"
   }
  }
 },
 "nbformat": 4,
 "nbformat_minor": 2
}
