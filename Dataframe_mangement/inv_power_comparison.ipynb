{
 "cells": [
  {
   "cell_type": "code",
   "execution_count": null,
   "metadata": {},
   "outputs": [],
   "source": [
    "import pandas as pd\n",
    "import numpy as np\n",
    "import time as t\n",
    "import re\n",
    "import itertools\n",
    "\n",
    "from datetime import datetime as dt\n",
    "from inverter_loss_calc import INV_Loss\n",
    "from PF_API_Shared import get_all_plants, get_plant, get_plant_attributes, get_plant_devices, Dispatch,TimeInterval\n",
    "from config import SUBSCRIPTION_KEY, CUSTOMER_ID"
   ]
  },
  {
   "cell_type": "code",
   "execution_count": null,
   "metadata": {},
   "outputs": [],
   "source": [
    "plant = 'Cal Flats 130'\n",
    "start = dt(2022,8,1)\n",
    "end = dt(2022,8,2)"
   ]
  },
  {
   "cell_type": "code",
   "execution_count": null,
   "metadata": {},
   "outputs": [],
   "source": [
    "dev_tags = [(\"Inverter\", [\"AC_POWER\"]),\n",
    "            (\"Sensor Pyranometer POA\", [\"IRRADIANCE_POA\"]),]\n",
    "#DC Current & Curtailment     \n",
    "rq_tags = []\n",
    "\n",
    "plants = get_all_plants(SUBSCRIPTION_KEY, CUSTOMER_ID)  \n",
    "plant_id = plants[\"id\"][plants[\"name\"] == plant].values[0]\n",
    "dispatch = Dispatch(SUBSCRIPTION_KEY, '2096')\n",
    "devices = get_plant_devices(SUBSCRIPTION_KEY,CUSTOMER_ID,plant_id)\n",
    "\n",
    "inv_description = devices[devices['description'].str.contains('kW')]\n",
    "\n",
    "inv = [x for x in inv_description[\"description\"]]"
   ]
  },
  {
   "cell_type": "code",
   "execution_count": null,
   "metadata": {},
   "outputs": [],
   "source": [
    "for dtype, tags in dev_tags:\n",
    "    dtype_devices = devices[devices['type']==dtype]\n",
    "    \n",
    "    df = dispatch.fetch_data(dtype_devices['id'], \n",
    "                                tags, \n",
    "                                query_range=TimeInterval(starttime=start,endtime=end))\n",
    "    rq_tags.append(df)\n",
    "inv_data = pd.concat(rq_tags, axis=1)\n",
    "data = inv_data.copy(deep=True)\n",
    "\n",
    "ident = [id for site,type,id,name in data.columns]"
   ]
  },
  {
   "cell_type": "code",
   "execution_count": null,
   "metadata": {},
   "outputs": [],
   "source": [
    "ident"
   ]
  },
  {
   "cell_type": "code",
   "execution_count": null,
   "metadata": {},
   "outputs": [],
   "source": [
    "inv"
   ]
  },
  {
   "cell_type": "code",
   "execution_count": null,
   "metadata": {},
   "outputs": [],
   "source": [
    "data.columns = ident\n",
    "list_compile = lambda a,b: a + '-' + b\n",
    "\n",
    "\n",
    "for i in data.columns:\n",
    "    if \"INV\" in i:\n",
    "        mapper = (list(map(list_compile, ident,inv)))\n",
    "df = data.filter(regex=\"INV\")\n",
    "df.columns = mapper\n",
    "df.loc[:,\"POA\"] = data.filter(regex=\"MET\").median(axis=1)"
   ]
  },
  {
   "cell_type": "code",
   "execution_count": null,
   "metadata": {},
   "outputs": [],
   "source": [
    "inv_names = []\n",
    "    \n",
    "df = df[~df.index.duplicated(keep='first')]\n",
    "\n",
    "''' Loading inv power and poa into dataframe '''\n",
    "\n",
    "inv_power = df.filter(regex = 'INV')\n",
    "all_power = df.fillna(0)\n",
    "\n",
    "all_power.loc[:,'POA'] = df.filter(regex = 'POA').mean(axis = 1) #Manual\n",
    "\n",
    "\n",
    "''' Parsing inverter metadata from the inverter name '''\n",
    "\n",
    "inv_names = inv_power.columns.str.split('-').str[0].tolist()\n",
    "n = len(inv_power.columns.str.split('-').tolist()[0])\n",
    "\n",
    "rated_dc = []\n",
    "rated_dc = [re.findall(r\"[-+]?(?:\\d*\\.\\d+|\\d+)\",i) for i in inv_power.columns.str.split('-').str[n-2].tolist()]\n",
    "rated_dc = list(itertools.chain(*rated_dc))\n",
    "rated_dc = [float(i) for i in rated_dc]\n",
    "\n",
    "rated_ac = []\n",
    "rated_ac = [re.findall(r\"[-+]?(?:\\d*\\.\\d+|\\d+)\",i) for i in inv_power.columns.str.split('-').str[n-1].tolist()]\n",
    "rated_ac = list(itertools.chain(*rated_ac))\n",
    "rated_ac = [float(i) for i in rated_ac]\n",
    "# Add Inverter names not tags\n",
    "''' Creating metadata table '''\n",
    "metadata = pd.DataFrame({'Inv_name':inv_names,\n",
    "                        'Rated_DC_KW':rated_dc,\n",
    "                        'Rated_AC_KW':rated_ac})"
   ]
  },
  {
   "cell_type": "code",
   "execution_count": null,
   "metadata": {},
   "outputs": [],
   "source": [
    "metadata"
   ]
  },
  {
   "cell_type": "code",
   "execution_count": null,
   "metadata": {},
   "outputs": [],
   "source": []
  }
 ],
 "metadata": {
  "kernelspec": {
   "display_name": "Python 3.9.12 ('energyopt')",
   "language": "python",
   "name": "python3"
  },
  "language_info": {
   "codemirror_mode": {
    "name": "ipython",
    "version": 3
   },
   "file_extension": ".py",
   "mimetype": "text/x-python",
   "name": "python",
   "nbconvert_exporter": "python",
   "pygments_lexer": "ipython3",
   "version": "3.9.12"
  },
  "orig_nbformat": 4,
  "vscode": {
   "interpreter": {
    "hash": "1ee7ccf5c2b422db1bca515afce38c3760a7c212612fed475a8b1d4a95c1ac50"
   }
  }
 },
 "nbformat": 4,
 "nbformat_minor": 2
}
